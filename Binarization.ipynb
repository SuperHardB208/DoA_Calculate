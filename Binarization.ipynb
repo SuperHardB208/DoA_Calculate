{
 "cells": [
  {
   "cell_type": "code",
   "execution_count": null,
   "metadata": {},
   "outputs": [],
   "source": [
    "import cv2\n",
    "import matplotlib.pyplot as plt\n",
    "import numpy as np\n",
    "import os"
   ]
  },
  {
   "cell_type": "code",
   "execution_count": null,
   "metadata": {},
   "outputs": [],
   "source": [
    "# Example usage\n",
    "image_path = \"Your image path"\n",
    "save_path_binary = \"Your save path\""
   ]
  },
  {
   "cell_type": "code",
   "execution_count": null,
   "metadata": {},
   "outputs": [],
   "source": [
    "def adaptive_thresholding_with_gaussian_blur_and_denoise(image_path, block_size, C):\n",
    "    # Read image\n",
    "    image = cv2.imread(image_path, cv2.IMREAD_GRAYSCALE)\n",
    "    \n",
    "    # Check if the image was read successfully\n",
    "    if image is None:\n",
    "        raise ValueError(f\"Image at path '{image_path}' could not be read.\")\n",
    "    \n",
    "    # Apply Gaussian Blur\n",
    "    blurred_image = cv2.GaussianBlur(image, (1, 1), 0)  # Use a larger Gaussian filter size\n",
    "    \n",
    "    # Adaptive Thresholding\n",
    "    binary_image = cv2.adaptiveThreshold(blurred_image, 255, cv2.ADAPTIVE_THRESH_GAUSSIAN_C, cv2.THRESH_BINARY, block_size, C)\n",
    "    \n",
    "    # Morphological operations: opening to remove noise\n",
    "    kernel = cv2.getStructuringElement(cv2.MORPH_RECT, (1, 1))  # Adjust kernel size if necessary\n",
    "    binary_image = cv2.morphologyEx(binary_image, cv2.MORPH_OPEN, kernel)\n",
    "\n",
    "    return binary_image\n",
    "\n",
    "def connected_component_analysis(binary_image, save_path):\n",
    "    # Connected component analysis\n",
    "    num_labels, labels, stats, centroids = cv2.connectedComponentsWithStats(binary_image, connectivity=4)\n",
    "\n",
    "    # Find noise regions\n",
    "    noise_labels = [label for label, stat in enumerate(stats) if stat[cv2.CC_STAT_AREA] < 200]\n",
    "\n",
    "    # Remove noise regions\n",
    "    for label in noise_labels:\n",
    "        binary_image[labels == label] = 0\n",
    "\n",
    "    # Ensure the directory exists before saving\n",
    "    os.makedirs(os.path.dirname(save_path), exist_ok=True)\n",
    "\n",
    "    # Save processed image\n",
    "    cv2.imwrite(save_path, binary_image)\n",
    "\n",
    "    return binary_image\n",
    "\n",
    "# Perform adaptive thresholding\n",
    "binary_image = adaptive_thresholding_with_gaussian_blur_and_denoise(image_path, block_size=101, C=0)\n",
    "\n",
    "# Ensure the binary image is in the range [0, 255] and convert to uint8 type\n",
    "binary_image = np.clip(binary_image, 0, 255).astype(np.uint8)\n",
    "\n",
    "# Perform connected component analysis and save the processed image\n",
    "connected_image = connected_component_analysis(binary_image, save_path_binary)"
   ]
  },
  {
   "cell_type": "code",
   "execution_count": null,
   "metadata": {},
   "outputs": [],
   "source": [
    "# Display the original and processed images for comparison\n",
    "plt.figure(figsize=(10, 5))\n",
    "\n",
    "plt.subplot(1, 2, 1)\n",
    "original_image = cv2.imread(image_path, cv2.IMREAD_GRAYSCALE)\n",
    "plt.imshow(original_image, cmap='gray')\n",
    "plt.title('Original Image')\n",
    "plt.axis('off')\n",
    "\n",
    "plt.subplot(1, 2, 2)\n",
    "plt.imshow(connected_image, cmap='gray')\n",
    "plt.title('Processed Image')\n",
    "plt.axis('off')\n",
    "\n",
    "plt.show()"
   ]
  }
 ],
 "metadata": {
  "language_info": {
   "codemirror_mode": {
    "name": "ipython",
    "version": 3
   },
   "file_extension": ".py",
   "mimetype": "text/x-python",
   "name": "python",
   "nbconvert_exporter": "python",
   "pygments_lexer": "ipython3",
   "version": 3
  }
 },
 "nbformat": 4,
 "nbformat_minor": 2
}
