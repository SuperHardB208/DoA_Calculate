{
 "cells": [
  {
   "cell_type": "code",
   "execution_count": 386,
   "metadata": {},
   "outputs": [],
   "source": [
    "import cv2\n",
    "import numpy as np\n",
    "import os\n",
    "import matplotlib.pyplot as plt"
   ]
  },
  {
   "cell_type": "code",
   "execution_count": 387,
   "metadata": {},
   "outputs": [],
   "source": [
    "# === 参数配置部分 ===\n",
    "# 输入和输出文件路径\n",
    "INPUT_IMAGE_PATH = 'F:/B208/pkuSEMl/biSEML4.png'\n",
    "OUTPUT_IMAGE_PATH = 'F:/B208/pkuSEMl/biSEML4/recombination.png'\n",
    "HISTOGRAM_FILE_PATH = 'F:/B208/pkuSEMl/biSEML4/output_pixel_distribution_histogram.png'\n",
    "OUTPUT_TXT_PATH = 'F:/B208/pkuSEMl/biSEML4/output_angle_distribution.txt'"
   ]
  },
  {
   "cell_type": "code",
   "execution_count": 388,
   "metadata": {},
   "outputs": [],
   "source": [
    "# === 核心功能模块 ===\n",
    "def load_image(image_path):\n",
    "    \"\"\"加载二值化图像\"\"\"\n",
    "    image = cv2.imread(image_path, cv2.IMREAD_GRAYSCALE)\n",
    "    if image is None:\n",
    "        raise FileNotFoundError(f\"无法加载图像: {image_path}\")\n",
    "    return image"
   ]
  },
  {
   "cell_type": "code",
   "execution_count": 389,
   "metadata": {},
   "outputs": [],
   "source": [
    "def hough_transform(binary_image):\n",
    "    \"\"\"使用霍夫变换提取直线\"\"\"\n",
    "    return cv2.HoughLinesP(binary_image, 1, np.pi / 3600, 25, minLineLength=3, maxLineGap=2)"
   ]
  },
  {
   "cell_type": "code",
   "execution_count": 390,
   "metadata": {},
   "outputs": [],
   "source": [
    "def calculate_angle_distribution(lines):\n",
    "    \"\"\"计算线条的角度分布和像素分布\"\"\"\n",
    "    angle_counts = {}\n",
    "    pixel_distribution = {}\n",
    "\n",
    "    if lines is not None:\n",
    "        for line in lines:\n",
    "            x1, y1, x2, y2 = line[0]\n",
    "            angle = np.arctan2(y2 - y1, x2 - x1) * 180 / np.pi\n",
    "            angle = (angle + 180) % 180  # 统一角度范围为 [0, 180)\n",
    "            angle = int(angle)\n",
    "\n",
    "            if angle not in angle_counts:\n",
    "                angle_counts[angle] = 0\n",
    "                pixel_distribution[angle] = []\n",
    "\n",
    "            angle_counts[angle] += 1\n",
    "            pixels = bresenham(x1, y1, x2, y2)\n",
    "            pixel_distribution[angle].extend(pixels)\n",
    "\n",
    "    return angle_counts, pixel_distribution\n",
    "\n",
    "def bresenham(x1, y1, x2, y2):\n",
    "    \"\"\"使用 Bresenham 算法生成线段像素坐标\"\"\"\n",
    "    pixels = []\n",
    "    dx, dy = abs(x2 - x1), abs(y2 - y1)\n",
    "    sx, sy = (1 if x1 < x2 else -1), (1 if y1 < y2 else -1)\n",
    "    err = dx - dy\n",
    "\n",
    "    while True:\n",
    "        pixels.append((x1, y1))\n",
    "        if x1 == x2 and y1 == y2:\n",
    "            break\n",
    "        e2 = err * 2\n",
    "        if e2 > -dy:\n",
    "            err -= dy\n",
    "            x1 += sx\n",
    "        if e2 < dx:\n",
    "            err += dx\n",
    "            y1 += sy\n",
    "\n",
    "    return pixels"
   ]
  },
  {
   "cell_type": "code",
   "execution_count": 391,
   "metadata": {},
   "outputs": [],
   "source": [
    "def draw_lines(binary_image, lines):\n",
    "    \"\"\"将检测到的线条绘制到图像上\"\"\"\n",
    "    combined_image = np.zeros_like(binary_image)\n",
    "\n",
    "    if lines is not None:\n",
    "        for line in lines:\n",
    "            x1, y1, x2, y2 = line[0]\n",
    "            cv2.line(combined_image, (x1, y1), (x2, y2), 255, 1)\n",
    "    return combined_image\n",
    "\n",
    "def save_histogram(angle_counts, pixel_distribution, save_path):\n",
    "    \"\"\"绘制并保存角度分布直方图\"\"\"\n",
    "    angles = list(angle_counts.keys())\n",
    "    pixel_counts = [len(pixel_distribution.get(angle, [])) for angle in angles]\n",
    "    total_pixels = sum(pixel_counts)\n",
    "    normalized_distribution = [count / total_pixels for count in pixel_counts]\n",
    "\n",
    "    # 计算 88-92 度的像素占比\n",
    "   # relevant_pixels = sum(len(pixel_distribution.get(angle, [])) for angle in range(88, 93))\n",
    "    #relevant_percentage = relevant_pixels / total_pixels if total_pixels > 0 else 0\n",
    "\n",
    "    plt.figure(figsize=(3, 3), dpi=100)\n",
    "    plt.bar(angles, normalized_distribution, width=1, color='red', edgecolor='red')\n",
    "    plt.xlabel('Angle (degrees)', fontfamily='Arial')\n",
    "    plt.ylabel('Pixels (Normalized)', fontfamily='Arial')\n",
    "    plt.title('Pixel Distribution by Angle', fontfamily='Arial')\n",
    "    #plt.text(10, 0.9, f\"88-92 degrees ratio: {relevant_percentage:.2%}\", fontsize=10, fontfamily='Arial', color='black')\n",
    "    #plt.axvspan(88, 92, color='red', alpha=0.3, label='88-92 degrees')\n",
    "    plt.legend()\n",
    "    plt.tight_layout()\n",
    "    plt.savefig(save_path)\n",
    "    plt.close()\n",
    "    print(f\"角度分布直方图已保存至: {save_path}\")\n",
    "\n",
    "def save_angle_distribution(angle_counts, output_path):\n",
    "    \"\"\"保存角度分布数据到文本文件\"\"\"\n",
    "    with open(output_path, 'w') as f:\n",
    "        f.write('Angle (degrees), Count\\n')\n",
    "        for angle, count in angle_counts.items():\n",
    "            f.write(f'{angle}, {count}\\n')\n",
    "    print(f\"角度分布数据已保存至: {output_path}\")"
   ]
  },
  {
   "cell_type": "code",
   "execution_count": 392,
   "metadata": {},
   "outputs": [
    {
     "name": "stderr",
     "output_type": "stream",
     "text": [
      "No artists with labels found to put in legend.  Note that artists whose label start with an underscore are ignored when legend() is called with no argument.\n"
     ]
    },
    {
     "name": "stdout",
     "output_type": "stream",
     "text": [
      "组合图像已保存至: F:/B208/pkuSEMl/biSEML4/recombination.png\n",
      "角度分布数据已保存至: F:/B208/pkuSEMl/biSEML4/output_angle_distribution.txt\n",
      "角度分布直方图已保存至: F:/B208/pkuSEMl/biSEML4/output_pixel_distribution_histogram.png\n"
     ]
    }
   ],
   "source": [
    "# === 主流程 ===\n",
    "def main():\n",
    "    try:\n",
    "        # 1. 加载图像\n",
    "        binary_image = load_image(INPUT_IMAGE_PATH)\n",
    "\n",
    "        # 2. 检测线条\n",
    "        lines = hough_transform(binary_image)\n",
    "\n",
    "        # 3. 计算角度和像素分布\n",
    "        angle_counts, pixel_distribution = calculate_angle_distribution(lines)\n",
    "\n",
    "        # 4. 绘制并保存线条组合图像\n",
    "        combined_image = draw_lines(binary_image, lines)\n",
    "        if cv2.imwrite(OUTPUT_IMAGE_PATH, combined_image):\n",
    "            print(f\"组合图像已保存至: {OUTPUT_IMAGE_PATH}\")\n",
    "        else:\n",
    "            print(f\"组合图像保存失败！\")\n",
    "\n",
    "        # 5. 保存角度分布到文件\n",
    "        save_angle_distribution(angle_counts, OUTPUT_TXT_PATH)\n",
    "\n",
    "        # 6. 绘制并保存角度直方图\n",
    "        save_histogram(angle_counts, pixel_distribution, HISTOGRAM_FILE_PATH)\n",
    "\n",
    "    except Exception as e:\n",
    "        print(f\"处理过程中发生错误: {e}\")\n",
    "\n",
    "if __name__ == \"__main__\":\n",
    "    main()"
   ]
  }
 ],
 "metadata": {
  "kernelspec": {
   "display_name": "Python 3",
   "language": "python",
   "name": "python3"
  },
  "language_info": {
   "codemirror_mode": {
    "name": "ipython",
    "version": 3
   },
   "file_extension": ".py",
   "mimetype": "text/x-python",
   "name": "python",
   "nbconvert_exporter": "python",
   "pygments_lexer": "ipython3",
   "version": "3.12.2"
  }
 },
 "nbformat": 4,
 "nbformat_minor": 2
}
