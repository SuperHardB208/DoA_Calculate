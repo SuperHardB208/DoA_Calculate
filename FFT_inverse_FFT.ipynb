{
 "cells": [
  {
   "cell_type": "code",
   "execution_count": 1,
   "source": [
    "import cv2\n",
    "import numpy as np\n",
    "import matplotlib.pyplot as plt\n",
    "from scipy.fft import fft2, fftshift, ifft2"
   ],
   "outputs": [],
   "metadata": {}
  },
  {
   "cell_type": "code",
   "execution_count": 2,
   "source": [
    "# Input image path\n",
    "input_image_path = 'F:/B208/AUTO-count_CNT/DeepLearning assists CNT orientation counting/Figure1/label.png'\n",
    "# Output image paths\n",
    "output_image_path = 'F:/B208/AUTO-count_CNT/DeepLearning assists CNT orientation counting/Figure1/fft_magnitude_angle_relationship.png'\n",
    "output_histogram_path = 'F:/B208/AUTO-count_CNT/DeepLearning assists CNT orientation counting/Figure1/fft_angle_histogram.png'\n",
    "output_txt_path = 'F:/B208/AUTO-count_CNT/DeepLearning assists CNT orientation counting/Figure1/fft_angle_distribution.txt'  # Path for the output TXT file\n",
    "output_inverse_image_path = 'F:/B208/AUTO-count_CNT/DeepLearning assists CNT orientation counting/Figure1/inverse_fft_image.png'  # Path for the inverse FFT output image"
   ],
   "outputs": [],
   "metadata": {}
  },
  {
   "cell_type": "code",
   "execution_count": 3,
   "source": [
    "# Read the image\n",
    "image = cv2.imread(input_image_path, cv2.IMREAD_GRAYSCALE)\n",
    "\n",
    "# If the image fails to read, raise an error\n",
    "if image is None:\n",
    "    raise FileNotFoundError(f\"Image file not found at {input_image_path}\")\n",
    "\n",
    "# Perform Fourier Transform\n",
    "f_transform = fft2(image)\n",
    "f_transform_shifted = fftshift(f_transform)\n",
    "\n",
    "# Calculate Magnitude Spectrum\n",
    "magnitude_spectrum = np.abs(f_transform_shifted)\n",
    "log_magnitude_spectrum = np.log(magnitude_spectrum + 1)\n",
    "\n",
    "# Calculate Phase Spectrum\n",
    "phase_spectrum = np.angle(f_transform_shifted)\n",
    "\n",
    "# Frequency component coordinates\n",
    "height, width = magnitude_spectrum.shape\n",
    "center = (height // 2, width // 2)\n",
    "y, x = np.indices((height, width))\n",
    "freq_x = x - center[1]\n",
    "freq_y = y - center[0]\n",
    "\n",
    "# Filter out small magnitude values\n",
    "threshold = 0.20 * magnitude_spectrum.max()\n",
    "magnitude_spectrum[magnitude_spectrum < threshold] = 0\n",
    "\n",
    "# Find peak positions\n",
    "peaks = np.where(magnitude_spectrum > 0)\n",
    "angles = []\n",
    "for px, py in zip(peaks[0], peaks[1]):\n",
    "    freq_x_val = freq_x[px, py]\n",
    "    freq_y_val = freq_y[px, py]\n",
    "    angle = np.degrees(np.arctan2(freq_y_val, freq_x_val))\n",
    "    angle = (angle + 180) % 180  # Convert to 0-180 range\n",
    "    angle = (angle + 90) % 180   # Add 90 degrees\n",
    "    angles.append(round(angle))  # Round to the nearest integer"
   ],
   "outputs": [
    {
     "output_type": "error",
     "ename": "FileNotFoundError",
     "evalue": "Image file not found at F:/B208/AUTO-count_CNT/DeepLearning assists CNT orientation counting/Figure1/label.png",
     "traceback": [
      "\u001b[1;31m---------------------------------------------------------------------------\u001b[0m",
      "\u001b[1;31mFileNotFoundError\u001b[0m                         Traceback (most recent call last)",
      "File \u001b[1;32mf:\\B208\\AUTO-count_CNT\\FFT_inverse_FFT.py:7\u001b[0m\n\u001b[0;32m      5\u001b[0m \u001b[39m# If the image fails to read, raise an error\u001b[39;00m\n\u001b[0;32m      6\u001b[0m \u001b[39mif\u001b[39;00m image \u001b[39mis\u001b[39;00m \u001b[39mNone\u001b[39;00m:\n\u001b[1;32m----> 7\u001b[0m     \u001b[39mraise\u001b[39;00m \u001b[39mFileNotFoundError\u001b[39;00m(\u001b[39mf\u001b[39m\u001b[39m\"\u001b[39m\u001b[39mImage file not found at \u001b[39m\u001b[39m{\u001b[39;00minput_image_path\u001b[39m}\u001b[39;00m\u001b[39m\"\u001b[39m)\n\u001b[0;32m      9\u001b[0m \u001b[39m# Perform Fourier Transform\u001b[39;00m\n\u001b[0;32m     10\u001b[0m f_transform \u001b[39m=\u001b[39m fft2(image)\n",
      "\u001b[1;31mFileNotFoundError\u001b[0m: Image file not found at F:/B208/AUTO-count_CNT/DeepLearning assists CNT orientation counting/Figure1/label.png"
     ]
    }
   ],
   "metadata": {}
  },
  {
   "cell_type": "code",
   "execution_count": null,
   "source": [
    "# 绘制幅度谱\n",
    "plt.figure(figsize=(6, 6))  # 创建一个新图形\n",
    "plt.imshow(log_magnitude_spectrum, cmap='gray')\n",
    "plt.axis('off')  # 关闭坐标轴\n",
    "plt.show()  # 显示幅度谱图\n",
    "\n",
    "# 绘制相位谱\n",
    "plt.figure(figsize=(6, 6))  # 创建一个新图形\n",
    "plt.imshow(phase_spectrum, cmap='hsv')\n",
    "plt.axis('off')  # 关闭坐标轴\n",
    "plt.show()  # 显示相位谱图\n",
    "\n",
    "# Save Magnitude and Phase Spectrum Images\n",
    "plt.tight_layout()\n",
    "plt.savefig(output_image_path)\n",
    "plt.show()\n",
    "\n",
    "# Prepare for histogram\n",
    "angle_bins = np.linspace(0, 180, 181)  # 180 bins for angles\n",
    "pixel_distribution, _ = np.histogram(angles, bins=angle_bins)\n",
    "\n",
    "# Normalize the distribution\n",
    "normalized_distribution = pixel_distribution / np.sum(pixel_distribution)\n",
    "\n",
    "# Calculate bin centers\n",
    "bin_centers = (angle_bins[:-1] + angle_bins[1:]) / 2\n",
    "\n",
    "# Calculate ratio for 88-92 degrees\n",
    "within_range_mask = (bin_centers >= 88) & (bin_centers <= 92)\n",
    "ratio_88_92 = np.sum(normalized_distribution[within_range_mask])\n",
    "\n",
    "# Save angle distribution to TXT file\n",
    "with open(output_txt_path, 'w') as f:\n",
    "    f.write('Angle (degrees), Pixel Count\\n')\n",
    "    for angle, count in zip(bin_centers, pixel_distribution):\n",
    "        f.write(f'{angle:.2f}, {count}\\n')"
   ],
   "outputs": [
    {
     "output_type": "error",
     "ename": "",
     "evalue": "",
     "traceback": [
      "\u001b[1;31m由于上一个单元格中出现错误，单元格已取消。"
     ]
    }
   ],
   "metadata": {}
  },
  {
   "cell_type": "code",
   "execution_count": null,
   "source": [
    "# Plot normalized angle histogram\n",
    "plt.figure(figsize=(6, 6), dpi=100)\n",
    "plt.bar(bin_centers, normalized_distribution, width=np.diff(angle_bins), edgecolor='black', color='red', align='center')\n",
    "plt.xlabel('Angle (degrees)', fontfamily='arial')\n",
    "plt.ylabel('Percentage of Pixels', fontfamily='arial')\n",
    "plt.title('Theoretical Pixel Distribution by Angle', fontfamily='arial')\n",
    "\n",
    "# Add shaded area for 88-92 degrees\n",
    "plt.axvspan(88, 92, color='red', alpha=0.3, label='88-92 degrees')\n",
    "\n",
    "# Annotate the 88-92 degree ratio\n",
    "plt.text(10, 0.9, f'88-92° Ratio: {ratio_88_92:.4f}', color='black', fontsize=12, fontfamily='arial')\n",
    "\n",
    "plt.ylim(0, 1.0)\n",
    "plt.xlim(0, 180)\n",
    "plt.legend()\n",
    "plt.tight_layout()\n",
    "plt.savefig(output_histogram_path)  # Save the normalized angle histogram image\n",
    "plt.show()\n",
    "\n",
    "# Inverse Fourier Transform to obtain the denoised image\n",
    "# Set small values in the magnitude spectrum to zero to reduce noise\n",
    "denoised_magnitude_spectrum = magnitude_spectrum.copy()\n",
    "denoised_magnitude_spectrum[magnitude_spectrum < threshold] = 0\n",
    "\n",
    "# Reconstruct the complex spectrum using the filtered magnitude and original phase\n",
    "filtered_spectrum = denoised_magnitude_spectrum * np.exp(1j * phase_spectrum)\n",
    "inverse_image = np.abs(ifft2(filtered_spectrum))\n",
    "\n",
    "# Normalize and convert to uint8 for displaying/saving\n",
    "inverse_image_normalized = cv2.normalize(inverse_image, None, 0, 255, cv2.NORM_MINMAX).astype(np.uint8)\n",
    "\n",
    "# Save the inverse FFT image\n",
    "cv2.imwrite(output_inverse_image_path, inverse_image_normalized)\n",
    "\n",
    "# Display the inverse FFT image\n",
    "plt.figure(figsize=(6, 6))\n",
    "plt.imshow(inverse_image_normalized, cmap='gray')\n",
    "plt.axis('off')  # Turn off the axis\n",
    "plt.title('Inverse FFT Image')\n",
    "plt.show()\n",
    "\n",
    "print(f\"Output image saved at {output_image_path}\")\n",
    "print(f\"Histogram image saved at {output_histogram_path}\")\n",
    "print(f\"Angle distribution saved at {output_txt_path}\")\n",
    "print(f\"Inverse FFT image saved at {output_inverse_image_path}\")"
   ],
   "outputs": [
    {
     "output_type": "error",
     "ename": "",
     "evalue": "",
     "traceback": [
      "\u001b[1;31m由于上一个单元格中出现错误，单元格已取消。"
     ]
    }
   ],
   "metadata": {}
  }
 ],
 "nbformat": 4,
 "nbformat_minor": 2,
 "metadata": {
  "language_info": {
   "codemirror_mode": {
    "name": "ipython",
    "version": 3
   },
   "file_extension": ".py",
   "mimetype": "text/x-python",
   "name": "python",
   "nbconvert_exporter": "python",
   "pygments_lexer": "ipython3",
   "version": 3
  }
 }
}