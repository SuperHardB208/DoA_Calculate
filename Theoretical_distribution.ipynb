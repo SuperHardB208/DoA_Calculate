{
 "cells": [
  {
   "cell_type": "code",
   "execution_count": 145,
   "metadata": {},
   "outputs": [],
   "source": [
    "import os\n",
    "import numpy as np\n",
    "import cv2\n",
    "from scipy.ndimage import gaussian_filter"
   ]
  },
  {
   "cell_type": "code",
   "execution_count": 146,
   "metadata": {},
   "outputs": [],
   "source": [
    "# 创建保存路径\n",
    "gt_path = \"F:/B208/DeepLearning_assists/Figure3/label/gt\"\n",
    "input_path = \"F:/B208/DeepLearning_assists/Figure3/label/gray\"\n",
    "txt_path = \"F:/B208/DeepLearning_assists/Figure3/label/txt\"\n",
    "os.makedirs(gt_path, exist_ok=True)\n",
    "os.makedirs(input_path, exist_ok=True)\n",
    "os.makedirs(txt_path, exist_ok=True)"
   ]
  },
  {
   "cell_type": "code",
   "execution_count": 147,
   "metadata": {},
   "outputs": [],
   "source": [
    "# 图像大小\n",
    "output_size = (256,256)"
   ]
  },
  {
   "cell_type": "code",
   "execution_count": 148,
   "metadata": {},
   "outputs": [],
   "source": [
    "# 生成线段图像\n",
    "def generate_lines_image():\n",
    "    height, width = 256,256\n",
    "    img = np.zeros((height, width), dtype=np.uint8)\n",
    "    gt_data = []\n",
    "    used_columns = set()\n",
    "    \n",
    "    # 生成竖直线段\n",
    "    num_lines = np.random.randint(10, 31)\n",
    "    for _ in range(num_lines):\n",
    "        max_attempts = 100  # 最大尝试次数\n",
    "        attempts = 0\n",
    "        while attempts < max_attempts:\n",
    "            attempts += 1\n",
    "            x1 = np.random.randint(0, width)  # 生成随机列\n",
    "            # 检查是否与已使用列间隔至少 3 像素\n",
    "            if all(abs(x1 - used_col) >= 3 for used_col in used_columns):\n",
    "                y1 = np.random.randint(0, 50)  # 起始位置在图像顶部50像素内\n",
    "                length = np.random.randint(200, 401)  # 随机线段长度\n",
    "                x2, y2 = x1, min(y1 + length, height - 1)  # 计算终点\n",
    "                gt_data.append(((x1, y1), (x2, y2)))\n",
    "                cv2.line(img, (x1, y1), (x2, y2), 255, 1)\n",
    "                used_columns.add(x1)  # 记录已使用的列\n",
    "                break\n",
    "        else:\n",
    "            print(f\"Warning: Could not place a line after {max_attempts} attempts.\")\n",
    "            \n",
    "        \n",
    "    # 生成随机取向线段\n",
    "    for _ in range(np.random.randint(5, 11)):\n",
    "        x1, y1 = np.random.randint(0, width), np.random.randint(0, height)\n",
    "        length = np.random.randint(20, 31)\n",
    "        angle = np.random.uniform(0, 2 * np.pi)\n",
    "        x2 = int(x1 + length * np.cos(angle))\n",
    "        y2 = int(y1 + length * np.sin(angle))\n",
    "        x2 = np.clip(x2, 0, width - 1)\n",
    "        y2 = np.clip(y2, 0, height - 1)\n",
    "        gt_data.append(((x1, y1), (x2, y2)))\n",
    "        cv2.line(img, (x1, y1), (x2, y2), 255, 1)\n",
    "\n",
    "    return img, gt_data\n",
    "\n",
    "# 调整图像大小\n",
    "def generate_lines_image_resized():\n",
    "    img, gt_data = generate_lines_image()\n",
    "    resized_img = cv2.resize(img, output_size, interpolation=cv2.INTER_NEAREST)\n",
    "    return resized_img, gt_data"
   ]
  },
  {
   "cell_type": "code",
   "execution_count": 149,
   "metadata": {},
   "outputs": [],
   "source": [
    "# 保存角度和像素点数量到文本文件\n",
    "def save_line_data_to_txt(filename, gt_data):\n",
    "    with open(filename, \"w\") as f:\n",
    "        for line in gt_data:\n",
    "            (x1, y1), (x2, y2) = line\n",
    "            angle = np.arctan2(y2 - y1, x2 - x1) * 180 / np.pi  # 计算角度\n",
    "            length = np.sqrt((x2 - x1) ** 2 + (y2 - y1) ** 2)    # 计算像素点数量 (即长度)\n",
    "            f.write(f\"Angle: {angle:.2f}, Length: {int(length)}\\n\")"
   ]
  },
  {
   "cell_type": "code",
   "execution_count": 150,
   "metadata": {},
   "outputs": [],
   "source": [
    "# 应用亮度调整和高斯模糊\n",
    "def apply_brightness_and_blur(img, gt_data):\n",
    "    blurred_img = np.zeros_like(img, dtype=np.float32)\n",
    "    for line in gt_data:\n",
    "        ((x1, y1), (x2, y2)) = line\n",
    "        brightness = np.random.randint(205, 256)\n",
    "        temp_img = np.zeros_like(img, dtype=np.uint8)\n",
    "        cv2.line(temp_img, (x1, y1), (x2, y2), brightness, 1)\n",
    "        sigma = np.random.uniform(0.8, 2.4)\n",
    "        temp_img = gaussian_filter(temp_img.astype(np.float32), sigma=sigma)\n",
    "        blurred_img += temp_img\n",
    "    return np.clip(blurred_img, 0, 255).astype(np.uint8)"
   ]
  },
  {
   "cell_type": "code",
   "execution_count": 151,
   "metadata": {},
   "outputs": [],
   "source": [
    "# 添加背景和噪声\n",
    "def add_background_and_noise(img):\n",
    "    height, width = img.shape\n",
    "    background_gray = np.random.randint(30, 121)\n",
    "    background = np.full((height, width), background_gray, dtype=np.uint8)\n",
    "    combined = cv2.add(background, img)\n",
    "\n",
    "    # 添加随机噪声\n",
    "    signal = img.max()\n",
    "    noise_std = signal / np.random.uniform(20,40)\n",
    "    noise = np.random.normal(0, noise_std, size=(height, width))\n",
    "    noisy_img = combined + noise\n",
    "    return np.clip(noisy_img, 0, 255).astype(np.uint8)"
   ]
  },
  {
   "cell_type": "code",
   "execution_count": 152,
   "metadata": {},
   "outputs": [],
   "source": [
    "# 创建光条纹效果\n",
    "def add_light_stripes_background(img):\n",
    "    height, width = img.shape\n",
    "\n",
    "    # 创建背景条纹：上下不均匀亮度\n",
    "    striped_background = np.zeros_like(img, dtype=np.float32)\n",
    "\n",
    "    # 横向或纵向条纹的数量和强度变化\n",
    "    num_stripes = np.random.randint(5, 10)\n",
    "    for i in range(num_stripes):\n",
    "        intensity = np.random.randint(0, 5)  # 随机亮度\n",
    "        stripe_height = np.random.randint(height // 10, height // 5)  # 每条条纹的高度\n",
    "        stripe_y_start = np.random.randint(0, height - stripe_height)  # 每条条纹的起始位置\n",
    "\n",
    "        # 生成亮度渐变条纹\n",
    "        stripe = np.linspace(intensity, intensity + 5, stripe_height)\n",
    "        for y in range(stripe_height):\n",
    "            striped_background[stripe_y_start + y, :] = stripe[y]\n",
    "\n",
    "    # 使条纹效果更加平滑并与原图混合\n",
    "    final_img = img.astype(np.float32) + striped_background\n",
    "    return np.clip(final_img, 0, 255).astype(np.uint8)"
   ]
  },
  {
   "cell_type": "code",
   "execution_count": 153,
   "metadata": {},
   "outputs": [],
   "source": [
    "# 主程序中增加角度保存\n",
    "for i in range(1):  # 生成1000张图像\n",
    "    base_img, gt_data = generate_lines_image_resized()\n",
    "    gt_save_path = os.path.join(gt_path, f\"arraygt_{i:04d}.png\")\n",
    "    cv2.imwrite(gt_save_path, base_img)\n",
    "\n",
    "    blurred_img = apply_brightness_and_blur(base_img, gt_data)\n",
    "    noisy_img = add_background_and_noise(blurred_img)\n",
    "    \n",
    "    # 添加光条纹背景效果\n",
    "    final_img = add_light_stripes_background(noisy_img)\n",
    "\n",
    "    input_save_path = os.path.join(input_path, f\"arrayinput_{i:04d}.png\")\n",
    "    cv2.imwrite(input_save_path, final_img)\n",
    "\n",
    "    # 保存角度和像素点数量到文本文件\n",
    "    txt_filename = os.path.join(txt_path, f\"arrayinput_{i:04d}.txt\")\n",
    "    save_line_data_to_txt(txt_filename, gt_data)"
   ]
  }
 ],
 "metadata": {
  "kernelspec": {
   "display_name": "Python 3",
   "language": "python",
   "name": "python3"
  },
  "language_info": {
   "codemirror_mode": {
    "name": "ipython",
    "version": 3
   },
   "file_extension": ".py",
   "mimetype": "text/x-python",
   "name": "python",
   "nbconvert_exporter": "python",
   "pygments_lexer": "ipython3",
   "version": "3.12.2"
  }
 },
 "nbformat": 4,
 "nbformat_minor": 2
}
