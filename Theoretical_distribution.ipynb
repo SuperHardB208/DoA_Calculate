{
 "cells": [
  {
   "cell_type": "code",
   "execution_count": 145,
   "metadata": {},
   "outputs": [],
   "source": [
    "import os\n",
    "import numpy as np\n",
    "import cv2\n",
    "from scipy.ndimage import gaussian_filter"
   ]
  },
  {
   "cell_type": "code",
   "execution_count": 146,
   "metadata": {},
   "outputs": [],
   "source": [
    "# Set the random seed for reproducibility\n",
    "gt_path = \"YOUR_PATH/gt\"\n",
    "input_path = \"YOUR_PATH/input\"\n",
    "txt_path = \"YOUR_PATH/txt\"\n",
    "os.makedirs(gt_path, exist_ok=True)\n",
    "os.makedirs(input_path, exist_ok=True)\n",
    "os.makedirs(txt_path, exist_ok=True)"
   ]
  },
  {
   "cell_type": "code",
   "execution_count": 147,
   "metadata": {},
   "outputs": [],
   "source": [
    "#  Define the parameters\n",
    "output_size = (256,256)"
   ]
  },
  {
   "cell_type": "code",
   "execution_count": 148,
   "metadata": {},
   "outputs": [],
   "source": [
    "# Generate the images\n",
    "def generate_lines_image():\n",
    "    height, width = 256,256\n",
    "    img = np.zeros((height, width), dtype=np.uint8)\n",
    "    gt_data = []\n",
    "    used_columns = set()\n",
    "    \n",
    "    # generate random vertical lines\n",
    "    num_lines = np.random.randint(10, 31)\n",
    "    for _ in range(num_lines):\n",
    "        max_attempts = 100  # maximum attempts to place a line\n",
    "        attempts = 0\n",
    "        while attempts < max_attempts:\n",
    "            attempts += 1\n",
    "            x1 = np.random.randint(0, width)  \n",
    "            # check if the column is already used\n",
    "            if all(abs(x1 - used_col) >= 3 for used_col in used_columns):\n",
    "                y1 = np.random.randint(0, 50)  \n",
    "                length = np.random.randint(200, 401)  \n",
    "                x2, y2 = x1, min(y1 + length, height - 1)  \n",
    "                gt_data.append(((x1, y1), (x2, y2)))\n",
    "                cv2.line(img, (x1, y1), (x2, y2), 255, 1)\n",
    "                used_columns.add(x1) \n",
    "                break\n",
    "        else:\n",
    "            print(f\"Warning: Could not place a line after {max_attempts} attempts.\")\n",
    "            \n",
    "        \n",
    "    # generate random horizontal lines\n",
    "    for _ in range(np.random.randint(5, 11)):\n",
    "        x1, y1 = np.random.randint(0, width), np.random.randint(0, height)\n",
    "        length = np.random.randint(20, 31)\n",
    "        angle = np.random.uniform(0, 2 * np.pi)\n",
    "        x2 = int(x1 + length * np.cos(angle))\n",
    "        y2 = int(y1 + length * np.sin(angle))\n",
    "        x2 = np.clip(x2, 0, width - 1)\n",
    "        y2 = np.clip(y2, 0, height - 1)\n",
    "        gt_data.append(((x1, y1), (x2, y2)))\n",
    "        cv2.line(img, (x1, y1), (x2, y2), 255, 1)\n",
    "\n",
    "    return img, gt_data\n",
    "\n",
    "# resize the image\n",
    "def generate_lines_image_resized():\n",
    "    img, gt_data = generate_lines_image()\n",
    "    resized_img = cv2.resize(img, output_size, interpolation=cv2.INTER_NEAREST)\n",
    "    return resized_img, gt_data"
   ]
  },
  {
   "cell_type": "code",
   "execution_count": 149,
   "metadata": {},
   "outputs": [],
   "source": [
    "# save the image and ground truth data\n",
    "def save_line_data_to_txt(filename, gt_data):\n",
    "    with open(filename, \"w\") as f:\n",
    "        for line in gt_data:\n",
    "            (x1, y1), (x2, y2) = line\n",
    "            angle = np.arctan2(y2 - y1, x2 - x1) * 180 / np.pi  # 计算角度\n",
    "            length = np.sqrt((x2 - x1) ** 2 + (y2 - y1) ** 2)    # 计算像素点数量 (即长度)\n",
    "            f.write(f\"Angle: {angle:.2f}, Length: {int(length)}\\n\")"
   ]
  },
  {
   "cell_type": "code",
   "execution_count": 150,
   "metadata": {},
   "outputs": [],
   "source": [
    "# apply brightness and blur\n",
    "def apply_brightness_and_blur(img, gt_data):\n",
    "    blurred_img = np.zeros_like(img, dtype=np.float32)\n",
    "    for line in gt_data:\n",
    "        ((x1, y1), (x2, y2)) = line\n",
    "        brightness = np.random.randint(205, 256)\n",
    "        temp_img = np.zeros_like(img, dtype=np.uint8)\n",
    "        cv2.line(temp_img, (x1, y1), (x2, y2), brightness, 1)\n",
    "        sigma = np.random.uniform(0.8, 2.4)\n",
    "        temp_img = gaussian_filter(temp_img.astype(np.float32), sigma=sigma)\n",
    "        blurred_img += temp_img\n",
    "    return np.clip(blurred_img, 0, 255).astype(np.uint8)"
   ]
  },
  {
   "cell_type": "code",
   "execution_count": 151,
   "metadata": {},
   "outputs": [],
   "source": [
    "# add background and noise\n",
    "def add_background_and_noise(img):\n",
    "    height, width = img.shape\n",
    "    background_gray = np.random.randint(30, 121)\n",
    "    background = np.full((height, width), background_gray, dtype=np.uint8)\n",
    "    combined = cv2.add(background, img)\n",
    "\n",
    "    # add noise\n",
    "    signal = img.max()\n",
    "    noise_std = signal / np.random.uniform(20,40)\n",
    "    noise = np.random.normal(0, noise_std, size=(height, width))\n",
    "    noisy_img = combined + noise\n",
    "    return np.clip(noisy_img, 0, 255).astype(np.uint8)"
   ]
  },
  {
   "cell_type": "code",
   "execution_count": 152,
   "metadata": {},
   "outputs": [],
   "source": [
    "# add light stripes background\n",
    "def add_light_stripes_background(img):\n",
    "    height, width = img.shape\n",
    "    # add random light stripes\n",
    "    striped_background = np.zeros_like(img, dtype=np.float32)\n",
    "    num_stripes = np.random.randint(5, 10)\n",
    "    for i in range(num_stripes):\n",
    "        intensity = np.random.randint(0, 5)  \n",
    "        stripe_height = np.random.randint(height // 10, height // 5)  \n",
    "        stripe_y_start = np.random.randint(0, height - stripe_height)  \n",
    "        stripe = np.linspace(intensity, intensity + 5, stripe_height)\n",
    "        for y in range(stripe_height):\n",
    "            striped_background[stripe_y_start + y, :] = stripe[y]\n",
    "\n",
    "    # apply Gaussian blur to the stripes\n",
    "    final_img = img.astype(np.float32) + striped_background\n",
    "    return np.clip(final_img, 0, 255).astype(np.uint8)"
   ]
  },
  {
   "cell_type": "code",
   "execution_count": 153,
   "metadata": {},
   "outputs": [],
   "source": [
    "# main\n",
    "for i in range(1): \n",
    "    base_img, gt_data = generate_lines_image_resized()\n",
    "    gt_save_path = os.path.join(gt_path, f\"arraygt_{i:04d}.png\")\n",
    "    cv2.imwrite(gt_save_path, base_img)\n",
    "\n",
    "    blurred_img = apply_brightness_and_blur(base_img, gt_data)\n",
    "    noisy_img = add_background_and_noise(blurred_img)\n",
    "    \n",
    "    # add light stripes background\n",
    "    final_img = add_light_stripes_background(noisy_img)\n",
    "\n",
    "    input_save_path = os.path.join(input_path, f\"arrayinput_{i:04d}.png\")\n",
    "    cv2.imwrite(input_save_path, final_img)\n",
    "\n",
    "    # save the ground truth data to a text file\n",
    "    txt_filename = os.path.join(txt_path, f\"arrayinput_{i:04d}.txt\")\n",
    "    save_line_data_to_txt(txt_filename, gt_data)"
   ]
  }
 ],
 "metadata": {
  "kernelspec": {
   "display_name": "Python 3",
   "language": "python",
   "name": "python3"
  },
  "language_info": {
   "codemirror_mode": {
    "name": "ipython",
    "version": 3
   },
   "file_extension": ".py",
   "mimetype": "text/x-python",
   "name": "python",
   "nbconvert_exporter": "python",
   "pygments_lexer": "ipython3",
   "version": "3.12.2"
  }
 },
 "nbformat": 4,
 "nbformat_minor": 2
}
